{
 "cells": [
  {
   "cell_type": "markdown",
   "id": "760f883f-e510-44cb-9905-61141b5dd4e8",
   "metadata": {},
   "source": [
    "##  More than half of all births in Mexico in 2024 were cesarean deliveries\n"
   ]
  },
  {
   "cell_type": "markdown",
   "id": "861b07df-be59-4830-b1fd-4bb5d1569d5e",
   "metadata": {},
   "source": [
    "**This project uses the 2024 database from Mexico’s National Birth Certificate Information System (SINAC), compiled by the Ministry of Health, to analyze the prevalence of cesarean deliveries in the context of obstetric saturation.**  \n",
    "**The analysis focuses on:**\n",
    "- Quantifying the proportion of cesarean versus vaginal births.  \n",
    "- Identifying variations by state and by hospital.  \n",
    "- Evaluating the availability of OB-GYNs at recorded births.  \n",
    "- Reflecting on the implications for maternal safety and obstetric emergencies.\n"
   ]
  },
  {
   "cell_type": "markdown",
   "id": "140279bd-fb7d-415e-ba61-c192bcb211b7",
   "metadata": {},
   "source": [
    "## Objectives\n",
    "1. Calculate the national cesarean rate and compare it to vaginal births.  \n",
    "2. Map the distribution of cesarean deliveries by state and hospital.  \n",
    "3. Identify hospitals with a high number of births without an OB-GYN present.  \n",
    "4. Generate inputs for the public debate on maternal health policies in Mexico.\n"
   ]
  },
  {
   "cell_type": "markdown",
   "id": "642e1abc-d7af-42ab-b456-42f218e6f7ce",
   "metadata": {},
   "source": [
    "### Libraries:\n"
   ]
  },
  {
   "cell_type": "code",
   "execution_count": 74,
   "id": "868609af-a33b-45e9-a374-dd5da06910ed",
   "metadata": {},
   "outputs": [],
   "source": [
    "import pandas as pd\n",
    "import matplotlib.pyplot as plt\n",
    "import openpyxl"
   ]
  },
  {
   "cell_type": "markdown",
   "id": "2fcd59a8-a828-4708-a12e-d4a952428e43",
   "metadata": {},
   "source": [
    "### Notebook setup:"
   ]
  },
  {
   "cell_type": "code",
   "execution_count": 75,
   "id": "29e53bef-f24a-4299-b5e0-80f43854cd00",
   "metadata": {},
   "outputs": [],
   "source": [
    "pd.set_option('display.max_columns', None)"
   ]
  },
  {
   "cell_type": "markdown",
   "id": "17ac54b3-d4c8-44fe-9ce9-aab175557d58",
   "metadata": {},
   "source": [
    "### Dictionaries"
   ]
  },
  {
   "cell_type": "markdown",
   "id": "5f8a1665-4bb0-4fd7-9244-1f0ce878b55a",
   "metadata": {},
   "source": [
    "**Diccionario 'orden_columnas' será util para aplicar un orden final al df generado.**"
   ]
  },
  {
   "cell_type": "code",
   "execution_count": 76,
   "id": "42ba2048-10d4-4906-8336-7c019eeb5137",
   "metadata": {},
   "outputs": [],
   "source": [
    "orden_columnas = [\n",
    "    'CLUES',\n",
    "    'ENTIDAD_PARTO_CVE',\n",
    "    'ENTIDAD_PARTO_STR',\n",
    "    'TIPO_PARTO_CVE',\n",
    "    'TIPO_PARTO_STR',\n",
    "    'TIPO_CESAREA_CVE',\n",
    "    'TIPO_CESAREA_STR',\n",
    "    'PERSONAL_ATENDIO_CVE',\n",
    "    'PERSONA_ATENDIO_STR',\n",
    "    'MEDICO_ATENDIO_CVE',\n",
    "    'MEDICO_ATENDIO_STR',\n",
    "    'SOBREVIVIO_PARTO_CVE',\n",
    "    'SOBREVIVIO_PARTO_STR',\n",
    "    'FECHA_NACIMIENTO_MADRE'\n",
    "]\n"
   ]
  },
  {
   "cell_type": "markdown",
   "id": "a70fbe31-ebc3-4201-a684-f2493bb62ba0",
   "metadata": {},
   "source": [
    "**Diccionario 'medico_map' será util para añadir una columna _str en las columnas que de origen contienen claves.**"
   ]
  },
  {
   "cell_type": "code",
   "execution_count": 77,
   "id": "86d6da67-a3a1-4623-a881-e72108e1f865",
   "metadata": {},
   "outputs": [],
   "source": [
    "medico_map = {\n",
    "    11: 'MÉDICO GINECO OBSTETRA',\n",
    "    12: 'OTRO ESPECIALISTA',\n",
    "    13: 'RESIDENTE',\n",
    "    14: 'MÉDICO GENERAL',\n",
    "    15: 'MPSS',\n",
    "    16: 'MIP',\n",
    "    9:  'SE IGNORA'\n",
    "}"
   ]
  },
  {
   "cell_type": "markdown",
   "id": "c5a63530-49d4-4f53-8f2f-5cfee59d2734",
   "metadata": {},
   "source": [
    "**Diccionario 'persona_atendio_parto_map' será util para añadir una columna _str en las columnas que de origen contienen claves.**"
   ]
  },
  {
   "cell_type": "code",
   "execution_count": 78,
   "id": "10c8cae2-8b5b-47f8-988e-74de1b0bbdf2",
   "metadata": {},
   "outputs": [],
   "source": [
    "personal_atendio_parto_map = {\n",
    "    0: 'NO ESPECIFICADO',\n",
    "    1: 'MÉDICO',\n",
    "    2: 'ENFERMERA',\n",
    "    3: 'PERSONA AUTORIZADA POR LA SECRETARÍA DE SALUD',\n",
    "    4: 'PARTERA',\n",
    "    8: 'OTRO',\n",
    "    9: 'SE IGNORA' \n",
    "}"
   ]
  },
  {
   "cell_type": "markdown",
   "id": "2ca69388-ab85-4b4f-8a81-fbfd73f30765",
   "metadata": {},
   "source": [
    "**Diccionario 'parto_map' será util para añadir una columna _str en las columnas que de origen contienen claves.**"
   ]
  },
  {
   "cell_type": "code",
   "execution_count": 79,
   "id": "ca32b9c6-1110-46f3-897f-2a8e4dda8bee",
   "metadata": {},
   "outputs": [],
   "source": [
    "parto_map = {\n",
    "    0: 'No especificado',\n",
    "    1: 'Eutócico (natural)',\n",
    "    2: 'Distócico (natural complicado)',\n",
    "    3: 'Cesárea',\n",
    "    8: 'Otro'\n",
    "}"
   ]
  },
  {
   "cell_type": "markdown",
   "id": "204131b7-4d40-47db-b8dd-d747f8889044",
   "metadata": {},
   "source": [
    "**Diccionario 'cesareas_map' será util para añadir una columna _str en las columnas que de origen contienen claves.**"
   ]
  },
  {
   "cell_type": "code",
   "execution_count": 80,
   "id": "d8f8fcea-d037-4209-b085-1e8a2ec56ccb",
   "metadata": {},
   "outputs": [],
   "source": [
    "cesareas_map = {\n",
    "    0: \"NO ESPECIFICADO\",\n",
    "    1: \"PROGRAMADA\",\n",
    "    2: \"DE URGENCIA\",\n",
    "    8: \"NO APLICA\"\n",
    "}"
   ]
  },
  {
   "cell_type": "markdown",
   "id": "47fec074-e8a4-4b47-a2d6-6b6af6d0b29d",
   "metadata": {},
   "source": [
    "**Diccionario 'entidadfederativaparto_map' será util para añadir una columna _str en las columnas que de origen contienen claves.**"
   ]
  },
  {
   "cell_type": "code",
   "execution_count": 81,
   "id": "094d619a-7154-4eb2-9c00-78f95a338f62",
   "metadata": {},
   "outputs": [],
   "source": [
    "entidad_federativaparto_map = {\n",
    "    0: 'NO ESPECIFICADO',\n",
    "    1: 'AGUASCALIENTES',\n",
    "    2: 'BAJA CALIFORNIA',\n",
    "    3: 'BAJA CALIFORNIA SUR',\n",
    "    4: 'CAMPECHE',\n",
    "    5: 'COAHUILA DE ZARAGOZA',\n",
    "    6: 'COLIMA',\n",
    "    7: 'CHIAPAS',\n",
    "    8: 'CHIHUAHUA',\n",
    "    9: 'CIUDAD DE MÉXICO',\n",
    "    10: 'DURANGO',\n",
    "    11: 'GUANAJUATO',\n",
    "    12: 'GUERRERO',\n",
    "    13: 'HIDALGO',\n",
    "    14: 'JALISCO',\n",
    "    15: 'MÉXICO',\n",
    "    16: 'MICHOACÁN DE OCAMPO',\n",
    "    17: 'MORELOS',\n",
    "    18: 'NAYARIT',\n",
    "    19: 'NUEVO LEÓN',\n",
    "    20: 'OAXACA',\n",
    "    21: 'PUEBLA',\n",
    "    22: 'QUERÉTARO',\n",
    "    23: 'QUINTANA ROO',\n",
    "    24: 'SAN LUIS POTOSÍ',\n",
    "    25: 'SINALOA',\n",
    "    26: 'SONORA',\n",
    "    27: 'TABASCO',\n",
    "    28: 'TAMAULIPAS',\n",
    "    29: 'TLAXCALA',\n",
    "    30: 'VERACRUZ DE IGNACIO DE LA LLAVE',\n",
    "    31: 'YUCATÁN',\n",
    "    32: 'ZACATECAS',\n",
    "    88: 'NO APLICA',\n",
    "    99: 'SE IGNORA'\n",
    "}"
   ]
  },
  {
   "cell_type": "markdown",
   "id": "86ca5fe1-52e1-4d3c-9cdc-16f1c2b8e5e5",
   "metadata": {},
   "source": [
    "**Diccionario para homologar nombres de entidades***"
   ]
  },
  {
   "cell_type": "code",
   "execution_count": 82,
   "id": "78028a24-e1f0-48cb-abbf-8d1b1e103fa8",
   "metadata": {},
   "outputs": [],
   "source": [
    "reemplazos_entidades = {\n",
    "    \"CIUDAD DE MÉXICO\": \"Ciudad de México\",\n",
    "    \"VERACRUZ DE IGNACIO DE LA LLAVE\": \"Veracruz\",\n",
    "    \"MICHOACÁN DE OCAMPO\": \"Michoacán\",\n",
    "    \"COAHUILA DE ZARAGOZA\": \"Coahuila\",\n",
    "    \"BAJA CALIFORNIA SUR\": \"Baja California Sur\",\n",
    "    \"BAJA CALIFORNIA\": \"Baja California\",\n",
    "    \"NUEVO LEÓN\": \"Nuevo Leon\",\n",
    "    \"QUERÉTARO\": \"Queretaro\",\n",
    "    \"SAN LUIS POTOSÍ\": \"San Luis Potosi\",\n",
    "    \"TLAXCALA\": \"Tlaxcala\",\n",
    "    \"SONORA\": \"Sonora\",\n",
    "    \"YUCATÁN\": \"Yucatan\",\n",
    "    \"CAMPECHE\": \"Campeche\",\n",
    "    \"DURANGO\": \"Durango\",\n",
    "    \"ZACATECAS\": \"Zacatecas\",\n",
    "    \"HIDALGO\": \"Hidalgo\",\n",
    "    \"AGUASCALIENTES\": \"Aguascalientes\",\n",
    "    \"MORELOS\": \"Morelos\",\n",
    "    \"QUINTANA ROO\": \"Quintana Roo\",\n",
    "    \"TABASCO\": \"Tabasco\",\n",
    "    \"CHIAPAS\": \"Chiapas\",\n",
    "    \"GUERRERO\": \"Guerrero\",\n",
    "    \"OAXACA\": \"Oaxaca\",\n",
    "    \"NAYARIT\": \"Nayarit\",\n",
    "    \"COLIMA\": \"Colima\",\n",
    "    \"SINALOA\": \"Sinaloa\",\n",
    "    \"JALISCO\": \"Jalisco\",\n",
    "    \"PUEBLA\": \"Puebla\",\n",
    "    \"TAMAULIPAS\": \"Tamaulipas\",\n",
    "    \"CHIHUAHUA\": \"Chihuahua\",\n",
    "    \"ESTADO DE MÉXICO\": \"Mexico\"\n",
    "}"
   ]
  },
  {
   "cell_type": "markdown",
   "id": "9bef9fe4-a55b-4ba9-864f-1d41af2fcd04",
   "metadata": {},
   "source": [
    "**Diccionario para identificar si la madre sobrevivió o no al parto (mortalidad materna)**\n"
   ]
  },
  {
   "cell_type": "code",
   "execution_count": 83,
   "id": "b0e52ce5-f4c1-437a-90e0-21a4427cb8f7",
   "metadata": {},
   "outputs": [],
   "source": [
    "mortalidad_materna_map = {\n",
    "    0: \"NO ESPECIFICADO\",\n",
    "    1: \"SI\",\n",
    "    2: \"NO\",\n",
    "    8: \"NO APLICA\",\n",
    "    9: \"SE IGNORA\"\n",
    "}\n"
   ]
  },
  {
   "cell_type": "markdown",
   "id": "814925c3-290d-43ef-a492-8fb8ac62219a",
   "metadata": {},
   "source": [
    "### Columnas útiles"
   ]
  },
  {
   "cell_type": "code",
   "execution_count": 84,
   "id": "17a61bff-e3a0-493c-b6a8-f3b61d6a891b",
   "metadata": {},
   "outputs": [],
   "source": [
    "columnas_nacimientos = [\n",
    "    'CLUES',\n",
    "    'ENTIDADFEDERATIVAPARTO',\n",
    "    'RESOLUCIONEMBARAZO',\n",
    "    'TIPOCESAREA',\n",
    "    'PERSONALATENDIO',\n",
    "    'TIPOMEDICOATENDIO',\n",
    "    'SOBREVIVIOPARTO',\n",
    "    'FECHANACIMIENTOMADRE'\n",
    "]"
   ]
  },
  {
   "cell_type": "code",
   "execution_count": 85,
   "id": "b9fcbf03-30f5-49b1-9280-8c5ab7dfc48b",
   "metadata": {},
   "outputs": [],
   "source": [
    "columnas_establecimientos_salud = [\n",
    "    'CLUES',\n",
    "    'NOMBRE DE LA UNIDAD',\n",
    "    'LATITUD',\n",
    "    'LONGITUD',\n",
    "    'ENTIDAD',\n",
    "    'CLAVE DE LA ENTIDAD',\n",
    "    'NOMBRE DE LA INS ADM',\n",
    "    'NIVEL ATENCION',\n",
    "    'NOMBRE DE LA INSTITUCION',\n",
    "    'NOMBRE COMERCIAL',\n",
    "]\n"
   ]
  },
  {
   "cell_type": "markdown",
   "id": "15349fca-a6fe-4fbd-92c8-7486198f76c4",
   "metadata": {},
   "source": [
    "### Data loading:\n"
   ]
  },
  {
   "cell_type": "markdown",
   "id": "5a97ba02-1632-469d-9436-d92061c680c9",
   "metadata": {},
   "source": [
    "**Loading the 2024 birth dataset provided by the Ministry of Health**\n"
   ]
  },
  {
   "cell_type": "code",
   "execution_count": 86,
   "id": "2f503c5b-51c1-44b0-8a1b-c62a9e73ac25",
   "metadata": {},
   "outputs": [],
   "source": [
    "df_nacimientos_2024 = pd.read_csv(\"Nacimientos_2024.csv\", encoding='utf-8', low_memory=False, usecols=columnas_nacimientos)\n"
   ]
  },
  {
   "cell_type": "markdown",
   "id": "eb39d3ef-40ab-4ca7-800c-42992d8d4444",
   "metadata": {},
   "source": [
    "**Lectura del catálogo de establecimientos de salud**"
   ]
  },
  {
   "cell_type": "code",
   "execution_count": 87,
   "id": "784b63be-5469-4734-a9b5-a1a2021c0da6",
   "metadata": {},
   "outputs": [],
   "source": [
    "df_establecimientos_salud_2024 = pd.read_excel('sinac_catalogos_2024/ESTABLECIMIENTOS_SALUD.xlsx', usecols=columnas_establecimientos_salud)"
   ]
  },
  {
   "cell_type": "markdown",
   "id": "6513b2fd-f339-489e-bfc5-e6d11088a28d",
   "metadata": {},
   "source": [
    "# Execution:"
   ]
  },
  {
   "cell_type": "markdown",
   "id": "ea882db4-3762-4b4e-8716-31d1ade731e7",
   "metadata": {},
   "source": [
    "## Column rename\n"
   ]
  },
  {
   "cell_type": "code",
   "execution_count": 88,
   "id": "dcd1418f-cd19-4883-aab6-5230e8ecdd5c",
   "metadata": {},
   "outputs": [],
   "source": [
    "df_nacimientos_2024 = df_nacimientos_2024.rename(columns={\n",
    "    'FECHANACIMIENTOMADRE':'FECHA_NACIMIENTO_MADRE',\n",
    "    'SOBREVIVIOPARTO': 'SOBREVIVIO_PARTO_CVE',\n",
    "    'CLUES':'CLUES',\n",
    "    'RESOLUCIONEMBARAZO' : 'TIPO_PARTO_CVE',\n",
    "    'TIPOCESAREA': 'TIPO_CESAREA_CVE',\n",
    "    'PERSONALATENDIO':'PERSONAL_ATENDIO_CVE',\n",
    "    'TIPOMEDICOATENDIO':'MEDICO_ATENDIO_CVE',\n",
    "    'ENTIDADFEDERATIVAPARTO': 'ENTIDAD_PARTO_CVE',\n",
    "})"
   ]
  },
  {
   "cell_type": "markdown",
   "id": "1f098397-0aa3-4c9e-be51-6c9471b0cab1",
   "metadata": {},
   "source": [
    "## Converting codes to string format"
   ]
  },
  {
   "cell_type": "markdown",
   "id": "e4c6cd79-001f-4cc0-9032-cf291f5883e3",
   "metadata": {},
   "source": [
    "**Transformación de nombre en columna TIPOMEDICOATENDIO a MEDICO_ATENDIO_STR**"
   ]
  },
  {
   "cell_type": "code",
   "execution_count": 89,
   "id": "d15ba31f-4a4a-4721-90eb-3aa422e7aa0b",
   "metadata": {},
   "outputs": [],
   "source": [
    "df_nacimientos_2024['MEDICO_ATENDIO_STR'] = df_nacimientos_2024['MEDICO_ATENDIO_CVE'].map(medico_map)"
   ]
  },
  {
   "cell_type": "markdown",
   "id": "b3328949-e0b9-4f11-9176-e1a3d54e280c",
   "metadata": {},
   "source": [
    "**Transformación de nombre en columna PERSONALATENDIO a PERSONAL_ATENDIO_STR**"
   ]
  },
  {
   "cell_type": "code",
   "execution_count": 90,
   "id": "40fb7880-5122-4557-8377-a1c86615adbb",
   "metadata": {},
   "outputs": [],
   "source": [
    "df_nacimientos_2024['PERSONA_ATENDIO_STR'] = df_nacimientos_2024['PERSONAL_ATENDIO_CVE'].map(personal_atendio_parto_map)"
   ]
  },
  {
   "cell_type": "markdown",
   "id": "8afa7bd9-55c6-4d57-9cf0-2b4d0d022543",
   "metadata": {},
   "source": [
    "**Transformación de nombre en columna RESOLUCIONEMBARAZO a TIPO_PARTO_STR**"
   ]
  },
  {
   "cell_type": "code",
   "execution_count": 91,
   "id": "b6ab3d43-f6ad-4841-a39e-8adf8a4ae3d2",
   "metadata": {},
   "outputs": [],
   "source": [
    "df_nacimientos_2024['TIPO_PARTO_STR'] = df_nacimientos_2024['TIPO_PARTO_CVE'].map(parto_map)"
   ]
  },
  {
   "cell_type": "markdown",
   "id": "4c30e143-bb2b-4faa-9288-729ce84206eb",
   "metadata": {},
   "source": [
    "**Transformación de nombre en columna ENTIDADFEDERATIVAPARTO a ENTIDAD_PARTO_STR**"
   ]
  },
  {
   "cell_type": "code",
   "execution_count": 92,
   "id": "fa5bf498-e2d0-4836-a1cc-c2af882c3609",
   "metadata": {},
   "outputs": [],
   "source": [
    "df_nacimientos_2024['ENTIDAD_PARTO_STR'] = df_nacimientos_2024['ENTIDAD_PARTO_CVE'].map(entidad_federativaparto_map)"
   ]
  },
  {
   "cell_type": "markdown",
   "id": "4fe9bc48-98af-4643-af88-6982b602e344",
   "metadata": {},
   "source": [
    "**Transformación de nombre en columna SOBREVIVIOPARTO a SOBREVIVIO_PARTO_CVE**"
   ]
  },
  {
   "cell_type": "code",
   "execution_count": 93,
   "id": "9af1216a-1d88-4e22-a90c-71c25a97ec5d",
   "metadata": {},
   "outputs": [],
   "source": [
    "df_nacimientos_2024['SOBREVIVIO_PARTO_STR'] = df_nacimientos_2024['SOBREVIVIO_PARTO_CVE'].map(mortalidad_materna_map)"
   ]
  },
  {
   "cell_type": "markdown",
   "id": "9a48606a-aec0-4910-b613-f4898deb5044",
   "metadata": {},
   "source": [
    "**Transformación de nombre en columna TIPO_CESAREA_CVE a TIPO_CESAREA_STR**"
   ]
  },
  {
   "cell_type": "code",
   "execution_count": 94,
   "id": "1f1243ec-c1a0-4a92-a23a-976a0e7b12e9",
   "metadata": {},
   "outputs": [],
   "source": [
    "df_nacimientos_2024['TIPO_CESAREA_STR'] = df_nacimientos_2024['TIPO_CESAREA_CVE'].map(cesareas_map)"
   ]
  },
  {
   "cell_type": "markdown",
   "id": "a021c486-9f0d-4ed9-8b7d-ae22b46b7d56",
   "metadata": {},
   "source": [
    "## Column rename"
   ]
  },
  {
   "cell_type": "code",
   "execution_count": 95,
   "id": "6fc1e929-b2c3-4ecf-a63b-aa5c20ffad13",
   "metadata": {},
   "outputs": [],
   "source": [
    "df_nacimientos_2024 = df_nacimientos_2024[orden_columnas]"
   ]
  },
  {
   "cell_type": "markdown",
   "id": "10314ff0-7861-4451-bd44-f88a9a851abb",
   "metadata": {},
   "source": [
    "## Methodological note"
   ]
  },
  {
   "cell_type": "markdown",
   "id": "a6f3341f-fe2c-47e5-ad52-d80ae0fcac4f",
   "metadata": {},
   "source": [
    "#### The original dataset recorded a total of 1,413,203 births. First, 28 null (NaN) records in the CLUES column were removed, leaving 1,413,175. Then, by excluding records with the value '9998', the dataset was reduced to 1,338,905 births with complete information about the medical facility.\n"
   ]
  },
  {
   "cell_type": "markdown",
   "id": "75b19611-3c26-4cc3-b6bf-949809ae6ca8",
   "metadata": {},
   "source": [
    "## Splitting the __df_nacimientos_2024__ dataframe based on available data\n"
   ]
  },
  {
   "cell_type": "markdown",
   "id": "bed87e3e-509e-45a8-ab45-18a79ed93459",
   "metadata": {},
   "source": [
    "**DataFrame de nacimientos 2024 íntegro sin modificaciones** (copia la referencia (en pandas esto no duplica memoria), y muestra el total de filas iniciales)"
   ]
  },
  {
   "cell_type": "code",
   "execution_count": 96,
   "id": "2840ec35-4a44-47f7-a7e1-2e1bc2a81362",
   "metadata": {},
   "outputs": [
    {
     "data": {
      "text/plain": [
       "1413203"
      ]
     },
     "execution_count": 96,
     "metadata": {},
     "output_type": "execute_result"
    }
   ],
   "source": [
    "# 1) Partimos de tu DataFrame “base” (antes de limpiar nada):\n",
    "df_nacimientos_2024 = df_nacimientos_2024\n",
    "len(df_nacimientos_2024)  \n",
    "# → 1 413 203 registros totales"
   ]
  },
  {
   "cell_type": "code",
   "execution_count": 97,
   "id": "49caba25-2b6a-410a-9b5b-b76c55edcbcf",
   "metadata": {},
   "outputs": [
    {
     "data": {
      "text/plain": [
       "np.int64(28)"
      ]
     },
     "execution_count": 97,
     "metadata": {},
     "output_type": "execute_result"
    }
   ],
   "source": [
    "df_nacimientos_2024['CLUES'].isna().sum()"
   ]
  },
  {
   "cell_type": "markdown",
   "id": "aac499a3-9fab-4a28-84b6-db4cac9e74a6",
   "metadata": {},
   "source": [
    "**DataFrame de nacimientos 2024, sin valores NaN en la columna 'CLUES'**"
   ]
  },
  {
   "cell_type": "code",
   "execution_count": 98,
   "id": "813d60ed-ea10-4d2c-911c-0c179b7a78d4",
   "metadata": {},
   "outputs": [
    {
     "data": {
      "text/plain": [
       "1413175"
      ]
     },
     "execution_count": 98,
     "metadata": {},
     "output_type": "execute_result"
    }
   ],
   "source": [
    "df_nacimientos_2024_clean_clues = df_nacimientos_2024.dropna(subset=['CLUES'])\n",
    "len(df_nacimientos_2024_clean_clues)"
   ]
  },
  {
   "cell_type": "markdown",
   "id": "29f482e3-2841-4793-a3c0-e782d6158500",
   "metadata": {},
   "source": [
    "**DataFrame de nacimientos 2024, sin valores 9998 en la columna 'CLUES'**"
   ]
  },
  {
   "cell_type": "code",
   "execution_count": 99,
   "id": "05e690f7-22ad-4a1c-9d1e-565b7796d8a1",
   "metadata": {},
   "outputs": [
    {
     "data": {
      "text/plain": [
       "1338905"
      ]
     },
     "execution_count": 99,
     "metadata": {},
     "output_type": "execute_result"
    }
   ],
   "source": [
    "# 4) Ahora quitamos también los registros con CLUES == '9998'\n",
    "#    (código que usas para marcarlas como “sin identificador oficial”)\n",
    "df_nacimientos_2024_clean_clues = df_nacimientos_2024_clean_clues[\n",
    "    df_nacimientos_2024_clean_clues['CLUES'] != '9998'\n",
    "]\n",
    "len(df_nacimientos_2024_clean_clues)\n",
    "# → 1 338 905 registros"
   ]
  },
  {
   "cell_type": "code",
   "execution_count": 100,
   "id": "abf37eaf-1042-4cf7-bd65-7663352b6651",
   "metadata": {},
   "outputs": [],
   "source": [
    "# 5) Reordenas las columnas según tu esquema final\n",
    "df_nacimientos_2024_clean_clues = df_nacimientos_2024_clean_clues[orden_columnas]"
   ]
  },
  {
   "cell_type": "markdown",
   "id": "bdbb5e1c-f42a-45ae-824a-e86e1bc6460b",
   "metadata": {},
   "source": [
    "## How many births were registered in 2024, and how were they distributed by type of delivery?\n"
   ]
  },
  {
   "cell_type": "markdown",
   "id": "221b5cfa-d33d-47df-af0b-57338d3e307f",
   "metadata": {},
   "source": [
    "**Determinar el número de registros en df_nacimientos_2024 que contiene la totalidad de nacimientos en México en el año 2024**"
   ]
  },
  {
   "cell_type": "code",
   "execution_count": 101,
   "id": "935af11a-70b0-4128-a722-073d7e1fc9ce",
   "metadata": {},
   "outputs": [
    {
     "name": "stdout",
     "output_type": "stream",
     "text": [
      "El total de nacimientos en 2024 fue: 1413203\n"
     ]
    }
   ],
   "source": [
    "total_nacimientos = len(df_nacimientos_2024)\n",
    "print(\"El total de nacimientos en 2024 fue:\",total_nacimientos)"
   ]
  },
  {
   "cell_type": "markdown",
   "id": "6dbc8b01-4017-4afe-8057-26e8d4bdde2b",
   "metadata": {},
   "source": [
    "### Cesarean births in Mexico 2024: far above the WHO standard\n",
    "\n",
    "In 2024, as shown below, 56.1% of all births were cesarean deliveries.\n",
    "\n",
    "The World Health Organization (WHO) recommends an ideal rate between **10% and 15%**, only when medically necessary.\n",
    "\n",
    "Such a high rate may indicate **hospital overcrowding, lack of specialized personnel, or unnecessary interventions**.\n"
   ]
  },
  {
   "cell_type": "markdown",
   "id": "7e47cce9-f0f4-45dd-9d96-a401e3c08b2a",
   "metadata": {},
   "source": [
    "**Count the number of births by type of delivery**\n"
   ]
  },
  {
   "cell_type": "code",
   "execution_count": 102,
   "id": "a5d42402-3511-413c-b345-f187415d66e6",
   "metadata": {},
   "outputs": [],
   "source": [
    "df_distribucion_tipo_parto = (\n",
    "    df_nacimientos_2024[\"TIPO_PARTO_STR\"]\n",
    "    .value_counts(dropna=False)                  \n",
    "    .rename_axis(\"TIPO_PARTO\")\n",
    "    .reset_index(name=\"TOTAL\")\n",
    "    .assign(PORCENTAJE=lambda d: (d[\"TOTAL\"] / total_nacimientos * 100).round(1))\n",
    "    .sort_values(\"PORCENTAJE\", ascending=False)\n",
    "    .reset_index(drop=True)\n",
    ")"
   ]
  },
  {
   "cell_type": "markdown",
   "id": "9b48a2d8-4312-48b6-b89a-bbe39c708d8d",
   "metadata": {},
   "source": [
    "**Generación .csv de df_distribucion_tipo_parto**"
   ]
  },
  {
   "cell_type": "code",
   "execution_count": 103,
   "id": "449ca7ec-8057-463a-aa58-ac97d675d0e1",
   "metadata": {},
   "outputs": [],
   "source": [
    "df_distribucion_tipo_parto.to_csv('tipo_parto_distribucion_2024_plot.csv', index=False)"
   ]
  },
  {
   "cell_type": "markdown",
   "id": "c41990a6-07f0-423d-8bf8-ae36d0dd379b",
   "metadata": {},
   "source": [
    "## Cesarean deliveries by state\n",
    "\n",
    "\n",
    "\n",
    "\n",
    "\n"
   ]
  },
  {
   "cell_type": "markdown",
   "id": "f54879d1-260f-48ad-ade1-5b87239e0797",
   "metadata": {},
   "source": [
    "1. A binary column `ES_CESAREA` was created based on `TIPO_PARTO_CVE == 3`.  \n",
    "2. Data were grouped by state (`ENTIDAD_PARTO_STR`) to count:  \n",
    "   - The total number of births (`TOTAL_PARTOS`).  \n",
    "   - The total number of cesarean deliveries (`TOTAL_CESAREAS`).  \n",
    "3. A national ranking was generated, sorted from highest to lowest percentage.\n"
   ]
  },
  {
   "cell_type": "code",
   "execution_count": 104,
   "id": "433fe3b5-306b-4ed0-9a13-4110b2014f2c",
   "metadata": {},
   "outputs": [],
   "source": [
    "df_nacimientos_2024[\"ES_CESAREA\"] = df_nacimientos_2024[\"TIPO_PARTO_CVE\"] == 3"
   ]
  },
  {
   "cell_type": "code",
   "execution_count": 105,
   "id": "78ec6aa3-ede8-4854-a3b7-b6aa7ccd055b",
   "metadata": {},
   "outputs": [
    {
     "ename": "NameError",
     "evalue": "name 'df_cesareas_por_estado' is not defined",
     "output_type": "error",
     "traceback": [
      "\u001b[31m---------------------------------------------------------------------------\u001b[39m",
      "\u001b[31mNameError\u001b[39m                                 Traceback (most recent call last)",
      "\u001b[36mCell\u001b[39m\u001b[36m \u001b[39m\u001b[32mIn[105]\u001b[39m\u001b[32m, line 1\u001b[39m\n\u001b[32m----> \u001b[39m\u001b[32m1\u001b[39m df_cesareas_por_estado[\u001b[33m\"\u001b[39m\u001b[33mENTIDAD_PARTO_STR\u001b[39m\u001b[33m\"\u001b[39m] = \u001b[43mdf_cesareas_por_estado\u001b[49m[\u001b[33m\"\u001b[39m\u001b[33mENTIDAD_PARTO_STR\u001b[39m\u001b[33m\"\u001b[39m].replace(reemplazos_entidades)\n",
      "\u001b[31mNameError\u001b[39m: name 'df_cesareas_por_estado' is not defined"
     ]
    }
   ],
   "source": [
    "df_cesareas_por_estado[\"ENTIDAD_PARTO_STR\"] = df_cesareas_por_estado[\"ENTIDAD_PARTO_STR\"].replace(reemplazos_entidades)"
   ]
  },
  {
   "cell_type": "code",
   "execution_count": null,
   "id": "3a4cf015-c86d-4dab-8e03-3bb6e3d23f63",
   "metadata": {},
   "outputs": [],
   "source": [
    "df_cesareas_por_estado[\"PORCENTAJE_CESAREAS\"] = (\n",
    "    df_cesareas_por_estado[\"TOTAL_CESAREAS\"] / df_cesareas_por_estado[\"TOTAL_PARTOS\"] * 100\n",
    ").round(1)"
   ]
  },
  {
   "cell_type": "code",
   "execution_count": null,
   "id": "4c33b563-ee91-4a03-abaa-ce23605a8eec",
   "metadata": {},
   "outputs": [],
   "source": [
    "df_cesareas_por_estado = df_cesareas_por_estado.sort_values(\"PORCENTAJE_CESAREAS\", ascending=False).reset_index(drop=True)\n",
    "df_cesareas_por_estado[\"RANK\"] = df_cesareas_por_estado.index + 1"
   ]
  },
  {
   "cell_type": "code",
   "execution_count": null,
   "id": "f895b893-49bd-4606-ae53-f623a2f51661",
   "metadata": {},
   "outputs": [],
   "source": [
    "df_cesareas_por_estado[\"RANK\"] = df_cesareas_por_estado.index + 1"
   ]
  },
  {
   "cell_type": "code",
   "execution_count": null,
   "id": "157fb3b7-9ca0-46ab-923a-6e90dd638be0",
   "metadata": {},
   "outputs": [],
   "source": [
    "df_cesareas_por_estado.head(10)"
   ]
  },
  {
   "cell_type": "code",
   "execution_count": null,
   "id": "97bf4bcf-84d9-41b7-aaca-15786750cf99",
   "metadata": {},
   "outputs": [],
   "source": [
    "df_export = df_cesareas_por_estado[[\"ENTIDAD_PARTO_STR\", \"PORCENTAJE_CESAREAS\"]].rename(\n",
    "    columns={\n",
    "        \"ENTIDAD_PARTO_STR\": \"Entidad\",\n",
    "        \"PORCENTAJE_CESAREAS\": \"Porcentaje\"\n",
    "    }\n",
    ")"
   ]
  },
  {
   "cell_type": "code",
   "execution_count": null,
   "id": "3e8cd95b-a034-4c29-81ad-574559f18aa8",
   "metadata": {},
   "outputs": [],
   "source": [
    "df_export.to_csv(\"porcentaje_cesareas_por_estado_plot.csv\", index=False)"
   ]
  },
  {
   "cell_type": "code",
   "execution_count": null,
   "id": "480842ba-8b85-460e-bee1-ca974ec026ad",
   "metadata": {},
   "outputs": [],
   "source": [
    "# Suma total nacional\n",
    "total_partos_nacional = df_cesareas_por_estado[\"TOTAL_PARTOS\"].sum()\n",
    "total_cesareas_nacional = df_cesareas_por_estado[\"TOTAL_CESAREAS\"].sum()"
   ]
  },
  {
   "cell_type": "code",
   "execution_count": null,
   "id": "c8425442-e6a4-45e9-9828-294df12b1e68",
   "metadata": {},
   "outputs": [],
   "source": [
    "print(total_partos_nacional)\n",
    "print(total_cesareas_nacional)\n"
   ]
  },
  {
   "cell_type": "markdown",
   "id": "ca84ed51-c65a-47b9-9426-17cad5ece03f",
   "metadata": {},
   "source": [
    "## Identify births by state, hospitals (CLUES), and type of cesarean delivery."
   ]
  },
  {
   "cell_type": "markdown",
   "id": "63ce7c5c-66ab-41bf-b192-7697f9795ee2",
   "metadata": {},
   "source": [
    "**The original dataset contains 28,885 records where the variable MEDICO_ATENDIO (CVE, STR) appears as NaN, meaning the type of medical professional who attended those births was not reported.**\n"
   ]
  },
  {
   "cell_type": "code",
   "execution_count": null,
   "id": "5cee8ca6-32b2-45c6-b70b-1547a0f1373f",
   "metadata": {},
   "outputs": [],
   "source": [
    "missing_counts = df_nacimientos_2024.isna().sum()\n",
    "\n",
    "missing_pct = (missing_counts / len(df_nacimientos_2024) * 100).round(2)\n",
    "\n",
    "report = pd.DataFrame({\n",
    "    \"missing_count\": missing_counts,\n",
    "    \"missing_pct\": missing_pct\n",
    "}).loc[missing_counts > 0].sort_values(\"missing_count\", ascending=False)\n"
   ]
  },
  {
   "cell_type": "code",
   "execution_count": null,
   "id": "d521287d-953c-452b-9ac7-373f09582b05",
   "metadata": {},
   "outputs": [],
   "source": [
    "#ORDENAR POR CLUES\n",
    "df_nacimientos_2024 = df_nacimientos_2024.sort_values(by='CLUES')"
   ]
  },
  {
   "cell_type": "code",
   "execution_count": null,
   "id": "f2bce673-c2d1-46d8-a68d-3d30c348774d",
   "metadata": {},
   "outputs": [],
   "source": [
    "#TEMP\n",
    "len(df_nacimientos_2024)"
   ]
  },
  {
   "cell_type": "code",
   "execution_count": null,
   "id": "631beb2e-e74c-4f69-9031-ff210665d651",
   "metadata": {},
   "outputs": [],
   "source": [
    "df_nacimientos_2024.to_csv('dataset_nacimientos_2024.csv', index=False)"
   ]
  },
  {
   "cell_type": "markdown",
   "id": "bdbe1833-df11-4989-b0a5-c505d19e785e",
   "metadata": {},
   "source": [
    "## Top 10 hospitals with the most births without OB-GYNs and facility level\n"
   ]
  },
  {
   "cell_type": "code",
   "execution_count": null,
   "id": "6a8ff471-4528-448b-808e-99bd3d1bcfa4",
   "metadata": {},
   "outputs": [],
   "source": [
    "# df_nacimientos_2024_clean_clues\n",
    "\n",
    "df_top_ranking_hospitales = df_nacimientos_2024_clean_clues.copy()"
   ]
  },
  {
   "cell_type": "code",
   "execution_count": null,
   "id": "96362800-d160-4a59-9682-a5cb2ac20bc0",
   "metadata": {},
   "outputs": [],
   "source": [
    "#Filtrar los que fueron atentidos por un gineco-obstetra. \n",
    "df_top_ranking_hospitales['ES_GINECO'] = df_nacimientos_2024_clean_clues['MEDICO_ATENDIO_STR'].str.contains('MÉDICO GINECO OBSTETRA', case=False, na=False)"
   ]
  },
  {
   "cell_type": "code",
   "execution_count": null,
   "id": "17211856-de66-4476-911b-82043806ac8d",
   "metadata": {},
   "outputs": [],
   "source": [
    "df_top_ranking_hospitales.head()"
   ]
  },
  {
   "cell_type": "code",
   "execution_count": null,
   "id": "be20b03a-4c12-4dc1-9623-7c6f8fbd59dd",
   "metadata": {},
   "outputs": [],
   "source": [
    "df_top_ranking_hospitales = (\n",
    "    df_top_ranking_hospitales.groupby('CLUES')\n",
    "    .agg(\n",
    "        TOTAL_PARTOS=('TIPO_PARTO_STR', 'count'),\n",
    "        PARTOS_CON_GINECO=('ES_GINECO', 'sum')\n",
    "    )\n",
    "    .reset_index()\n",
    ")\n",
    "\n",
    "df_top_ranking_hospitales['PARTOS_SIN_GINECO'] = df_top_ranking_hospitales['TOTAL_PARTOS'] - df_top_ranking_hospitales['PARTOS_CON_GINECO']"
   ]
  },
  {
   "cell_type": "markdown",
   "id": "6714cb8b-0559-4680-8df0-2ba9b8f0ceb8",
   "metadata": {},
   "source": [
    "**Pegar metadatos**"
   ]
  },
  {
   "cell_type": "code",
   "execution_count": null,
   "id": "e76df41f-75ab-405b-8713-e26f35e616c7",
   "metadata": {},
   "outputs": [],
   "source": [
    "df_tabla_hospitales = df_top_ranking_hospitales[[\n",
    "    'ENTIDAD',\n",
    "    'NOMBRE COMERCIAL',\n",
    "    'TOTAL_PARTOS',\n",
    "    'PARTOS_SIN_GINECO',\n",
    "    'TASA_SIN_GINECO',\n",
    "    'NIVEL ATENCION'\n",
    "]]"
   ]
  },
  {
   "cell_type": "code",
   "execution_count": null,
   "id": "b97b77a9-5fe6-4a17-a4b7-bcf2c15211a2",
   "metadata": {},
   "outputs": [],
   "source": [
    "# 2. Ordenamos por partos sin gineco y nos quedamos con el top 10\n",
    "df_tabla_hospitales = df_tabla_hospitales.sort_values(\n",
    "    by='PARTOS_SIN_GINECO', ascending=False\n",
    ").head(10)"
   ]
  },
  {
   "cell_type": "code",
   "execution_count": null,
   "id": "fdb79434-1c57-44b3-9df4-848ed5a06924",
   "metadata": {},
   "outputs": [],
   "source": [
    "# 3. Renombramos las columnas al inglés para Datawrapper\n",
    "df_tabla_hospitales = df_tabla_hospitales.rename(columns={\n",
    "    'ENTIDAD': 'State',\n",
    "    'NOMBRE COMERCIAL': 'Hospital Name',\n",
    "    'TOTAL_PARTOS': 'Total Births',\n",
    "    'PARTOS_SIN_GINECO': 'Births Without OB-GYN',\n",
    "    'TASA_SIN_GINECO': 'Percent Without OB-GYN',\n",
    "    'NIVEL ATENCION': 'Level of Care'\n",
    "})"
   ]
  },
  {
   "cell_type": "code",
   "execution_count": null,
   "id": "aaad323e-0011-463d-a5f0-2ba432826481",
   "metadata": {},
   "outputs": [],
   "source": [
    "df_tabla_hospitales.to_csv(\"top_10_hospitals_obgyn_gap_en.csv\", index=False)\n"
   ]
  },
  {
   "cell_type": "code",
   "execution_count": null,
   "id": "3b301861-dfdb-4fdf-b205-0e04af0ed12e",
   "metadata": {},
   "outputs": [],
   "source": []
  },
  {
   "cell_type": "code",
   "execution_count": null,
   "id": "d4ccb073-5899-48ee-971c-2e37d8944416",
   "metadata": {},
   "outputs": [],
   "source": [
    "df_tabla_hospitales[\"Percent Without OB-GYN\"] = df_tabla_hospitales[\"Percent Without OB-GYN\"].apply(lambda x: f\"{x:.2f}\")"
   ]
  },
  {
   "cell_type": "code",
   "execution_count": null,
   "id": "984977e7-6705-44a4-b5a0-1b05f5416367",
   "metadata": {},
   "outputs": [],
   "source": [
    "df_tabla_hospitales.to_csv(\"top_10_hospitals_obgyn_gap_en.csv\", index=False)"
   ]
  },
  {
   "cell_type": "markdown",
   "id": "71ada456-98db-4229-8a4c-d2a967d7fefa",
   "metadata": {},
   "source": [
    "# Types of cesarean deliveries in Mexico\n"
   ]
  },
  {
   "cell_type": "markdown",
   "id": "b56ae66f-12de-4725-af29-a8653b75e180",
   "metadata": {},
   "source": [
    "## Analysis of cesarean delivery types in Mexico (2024)\n",
    "\n",
    "Based on the cleaned DataFrame (`df_nacimientos_2024_clean_clues`), we will:\n",
    "1. Filter only the births that were cesarean deliveries  \n",
    "2. Count all cesarean categories  \n",
    "3. Build a DataFrame with totals and percentages  \n",
    "4. Export the CSV\n"
   ]
  },
  {
   "cell_type": "markdown",
   "id": "7150ea80-f04e-48a3-a08e-adedd11e726a",
   "metadata": {},
   "source": [
    "**Filter only births that were cesarean deliveries**"
   ]
  },
  {
   "cell_type": "code",
   "execution_count": null,
   "id": "3cd06c24-fe46-463c-b4bd-23a8bdbcb90e",
   "metadata": {},
   "outputs": [],
   "source": [
    "df_ces_clean = df_nacimientos_2024_clean_clues[\n",
    "  df_nacimientos_2024_clean_clues['TIPO_PARTO_STR']=='Cesárea'\n",
    "]"
   ]
  },
  {
   "cell_type": "markdown",
   "id": "bddac309-6c39-4741-9936-ececa8768fc0",
   "metadata": {},
   "source": [
    "**Count all cesarean categories (including NOT SPECIFIED, NOT APPLICABLE…)**\n"
   ]
  },
  {
   "cell_type": "code",
   "execution_count": null,
   "id": "b7dd1b69-71a8-4bd1-9382-398c8967a97e",
   "metadata": {},
   "outputs": [],
   "source": [
    "counts_clean = (\n",
    "  df_ces_clean['TIPO_CESAREA_CVE']\n",
    "    .map(cesareas_map)\n",
    "    .value_counts()\n",
    ")"
   ]
  },
  {
   "cell_type": "markdown",
   "id": "5eb6c31a-668a-4dbb-8142-28c8b936b22f",
   "metadata": {},
   "source": [
    "**Construir el DataFrame final con totales y porcentaje**\n"
   ]
  },
  {
   "cell_type": "code",
   "execution_count": null,
   "id": "374cfa28-2090-49b0-be5a-4ca467fb0e90",
   "metadata": {},
   "outputs": [],
   "source": [
    "pct_urg_clean = round(counts_clean['DE URGENCIA'] / counts_clean.sum() * 100, 1)\n",
    "print(f\"{pct_urg_clean}% de las cesáreas fueron de urgencia.\")"
   ]
  },
  {
   "cell_type": "code",
   "execution_count": null,
   "id": "0ca29799-ef7b-4c20-b8f1-7cc9b0078355",
   "metadata": {},
   "outputs": [],
   "source": [
    "df_ces_clean = df_nacimientos_2024_clean_clues[\n",
    "    df_nacimientos_2024_clean_clues['TIPO_PARTO_STR']=='Cesárea'\n",
    "]"
   ]
  },
  {
   "cell_type": "code",
   "execution_count": null,
   "id": "d8b5d5a5-9db5-4498-b193-2e002dea5d54",
   "metadata": {},
   "outputs": [],
   "source": [
    "counts_clean = (\n",
    "    df_ces_clean['TIPO_CESAREA_CVE']\n",
    "    .map(cesareas_map)\n",
    "    .value_counts()\n",
    ")"
   ]
  },
  {
   "cell_type": "markdown",
   "id": "0bc364a3-c079-4913-8f53-eb5db4d4e110",
   "metadata": {},
   "source": [
    "**Este CSV tendrá columnas `TIPO_CESAREA`, `TOTAL_CESAREAS` y `PORCENTAJE`**\n"
   ]
  },
  {
   "cell_type": "code",
   "execution_count": null,
   "id": "70bc3c25-3741-4b5a-b8ee-638ccd22a377",
   "metadata": {},
   "outputs": [],
   "source": [
    "df_plot = counts_clean.rename_axis('TIPO_CESAREA') \\\n",
    "                      .reset_index(name='TOTAL_CESAREAS')\n",
    "df_plot['PORCENTAJE'] = (\n",
    "    df_plot['TOTAL_CESAREAS'] / df_plot['TOTAL_CESAREAS'].sum() * 100\n",
    ").round(1)\n"
   ]
  },
  {
   "cell_type": "code",
   "execution_count": null,
   "id": "b93dc69e-bf9c-4e9b-98dc-b4e12a00ea2e",
   "metadata": {},
   "outputs": [],
   "source": [
    "df_plot"
   ]
  },
  {
   "cell_type": "markdown",
   "id": "b224b089-4b88-4ff8-b768-9bac9d4c451f",
   "metadata": {},
   "source": [
    "**Guardar CSV listo para plot**"
   ]
  },
  {
   "cell_type": "code",
   "execution_count": null,
   "id": "0b4f57e1-0dd0-4ece-a5d9-51c40d5f6bd4",
   "metadata": {},
   "outputs": [],
   "source": [
    "df_plot.to_csv('tipos_cesareas_mexico_2024_plot.csv', index=False)"
   ]
  },
  {
   "cell_type": "markdown",
   "id": "8f75a69b-146b-4281-a39a-e6f768ea57e0",
   "metadata": {},
   "source": [
    "## Maternal mortality\n",
    "\n",
    "\n"
   ]
  },
  {
   "cell_type": "markdown",
   "id": "85ec5968-32e5-4a21-a99f-0e793156091b",
   "metadata": {},
   "source": [
    "**How many births in df_nacimientos_2024 resulted in the mother's death?**"
   ]
  },
  {
   "cell_type": "markdown",
   "id": "d13d8a32-8560-41f2-bfdc-a084fe3ddf05",
   "metadata": {},
   "source": [
    "**Extract only the relevant columns for the maternal death analysis by creating a copy of `df_nacimientos_2024_clean_clues`, in order to avoid modifying the original dataframe**\n"
   ]
  },
  {
   "cell_type": "code",
   "execution_count": null,
   "id": "89d1a3e6-4f65-46c1-80dd-449294c71906",
   "metadata": {},
   "outputs": [],
   "source": [
    "df_mortalidad_materna_2024 = df_nacimientos_2024_clean_clues[[\n",
    "    'CLUES',\n",
    "    'SOBREVIVIO_PARTO_CVE',\n",
    "    'SOBREVIVIO_PARTO_STR',\n",
    "    'ENTIDAD_PARTO_STR'\n",
    "]].copy()   "
   ]
  },
  {
   "cell_type": "code",
   "execution_count": null,
   "id": "a95b6deb-93e3-4662-86b2-2e05192a9315",
   "metadata": {},
   "outputs": [],
   "source": [
    "df_mortalidad_materna_2024['SOBREVIVIO_PARTO_CVE'] = (\n",
    "    df_mortalidad_materna_2024['SOBREVIVIO_PARTO_CVE']\n",
    "    .astype(str)\n",
    ")"
   ]
  },
  {
   "cell_type": "markdown",
   "id": "6ed54744-22f6-4cfe-923b-9bb53fa90cfa",
   "metadata": {},
   "source": [
    "**Filtrar los casos de muerte materna (SOBREVIVIO_PARTO_CVE == '2')**\n"
   ]
  },
  {
   "cell_type": "code",
   "execution_count": null,
   "id": "cb697e85-038e-4dc4-87b9-7a4df7fb6abb",
   "metadata": {},
   "outputs": [],
   "source": [
    "df_madre_no_sobrevivio = df_mortalidad_materna_2024[\n",
    "    df_mortalidad_materna_2024['SOBREVIVIO_PARTO_CVE'] == '2'\n",
    "]"
   ]
  },
  {
   "cell_type": "markdown",
   "id": "bc8dbc8f-e134-4a7d-a439-73be2c518475",
   "metadata": {},
   "source": [
    "**Filtrar los casos donde la madre sobrevivió (SOBREVIVIO_PARTO_CVE == '1')**"
   ]
  },
  {
   "cell_type": "code",
   "execution_count": null,
   "id": "f23d7669-e15a-4188-847c-488639d0112e",
   "metadata": {},
   "outputs": [],
   "source": [
    "df_madre_sobrevivio = df_mortalidad_materna_2024[\n",
    "    df_mortalidad_materna_2024['SOBREVIVIO_PARTO_CVE'] == '1'\n",
    "]"
   ]
  },
  {
   "cell_type": "markdown",
   "id": "404e1366-129c-4c49-903e-80e2ef425f29",
   "metadata": {},
   "source": [
    "**Filtrar los casos “no especificado” (SOBREVIVIO_PARTO_CVE == '0')**"
   ]
  },
  {
   "cell_type": "code",
   "execution_count": null,
   "id": "85f44496-e0bc-45ed-b167-b34c845d25b0",
   "metadata": {},
   "outputs": [],
   "source": [
    "df_madre_no_especificado = df_mortalidad_materna_2024[\n",
    "    df_mortalidad_materna_2024['SOBREVIVIO_PARTO_CVE'] == '0'\n",
    "]"
   ]
  },
  {
   "cell_type": "markdown",
   "id": "14714cd3-4327-446a-8846-dabce5bf0bdf",
   "metadata": {},
   "source": [
    "**Resultados de la operación sobre supervivencia de las madres**"
   ]
  },
  {
   "cell_type": "code",
   "execution_count": null,
   "id": "094c7c2c-0567-4535-8697-14ee4d439520",
   "metadata": {},
   "outputs": [],
   "source": [
    "print(f\"According to the birth dataset, only {len(df_madre_no_sobrevivio)} maternal deaths were reported in 2024.\")\n",
    "print(f\"It was reported that in {len(df_madre_sobrevivio)} births, the mother survived.\")\n",
    "print(f\"There are {len(df_madre_no_especificado)} cases where it is not specified whether the mother survived childbirth or not.\")\n"
   ]
  },
  {
   "cell_type": "markdown",
   "id": "71e15e8a-c979-4924-aea1-d3c190319ce6",
   "metadata": {},
   "source": [
    "## What type of medical professional attended the births?\n"
   ]
  },
  {
   "cell_type": "markdown",
   "id": "13124a7c-9014-4373-9758-28e4b61cf39f",
   "metadata": {},
   "source": [
    "To ensure that **all** maternal deaths are counted (including those without a reported medical provider), we follow these steps:\n",
    "\n",
    "1. **Filter** maternal deaths (`SOBREVIVIO_PARTO_CVE == 2`) from the cleaned DataFrame.  \n",
    "2. **Count** by code (`MEDICO_ATENDIO_CVE`) and **map** to readable labels.  \n",
    "3. Explicitly include `NaN` values using `dropna=False` to avoid losing any cases.  \n",
    "4. **Calculate** the percentage out of the total number of deaths.  \n",
    "5. **Verify** that the sum of `count` matches the total number of deaths and that the percentages add up to 100%.\n"
   ]
  },
  {
   "cell_type": "markdown",
   "id": "662cfd3b-2109-4053-a06a-deb921905087",
   "metadata": {},
   "source": [
    "**Filtrar muertes maternas (código entero 2)**"
   ]
  },
  {
   "cell_type": "code",
   "execution_count": null,
   "id": "5403a674-d17c-4259-8dbd-1baeb3df619f",
   "metadata": {},
   "outputs": [],
   "source": [
    "df_madre_no_sobrevivio = df_nacimientos_2024_clean_clues[\n",
    "    df_nacimientos_2024_clean_clues[\"SOBREVIVIO_PARTO_CVE\"] == 2\n",
    "]"
   ]
  },
  {
   "cell_type": "markdown",
   "id": "c1e5e284-bffb-4539-abfd-329f3ae0cedc",
   "metadata": {},
   "source": [
    "**Contar por código y luego mapear etiquetas (incluye NaN)**"
   ]
  },
  {
   "cell_type": "code",
   "execution_count": null,
   "id": "ac197b92-30fe-4b6b-ac31-2f227568361d",
   "metadata": {},
   "outputs": [],
   "source": [
    "conteo_medicos = (\n",
    "    df_madre_no_sobrevivio[\"MEDICO_ATENDIO_CVE\"]\n",
    "    .map(medico_map)\n",
    "    .value_counts(dropna=False)      # incluye los NaN\n",
    "    .rename_axis(\"TIPO_MEDICO\")\n",
    "    .reset_index(name=\"cantidad\")\n",
    ")"
   ]
  },
  {
   "cell_type": "markdown",
   "id": "6c97d32d-14d9-48a9-8535-3255fa6c7d35",
   "metadata": {},
   "source": [
    "**Calcular porcentaje**"
   ]
  },
  {
   "cell_type": "code",
   "execution_count": null,
   "id": "a5b2d451-f372-41e3-8b9c-96f27d8dc0e6",
   "metadata": {},
   "outputs": [],
   "source": [
    "total = conteo_medicos[\"cantidad\"].sum()\n",
    "conteo_medicos[\"porcentaje\"] = (conteo_medicos[\"cantidad\"] / total * 100).round(1)"
   ]
  },
  {
   "cell_type": "code",
   "execution_count": null,
   "id": "5f21868e-6711-4055-901a-831a6f655729",
   "metadata": {},
   "outputs": [],
   "source": [
    "conteo_medicos.to_csv(\"tipos_medico_muerte_materna_plot.csv\", index=False)"
   ]
  },
  {
   "cell_type": "markdown",
   "id": "172956ab-54ff-4586-8267-fb9791f540f9",
   "metadata": {},
   "source": [
    "# Which hospitals reported the most maternal deaths?"
   ]
  },
  {
   "cell_type": "code",
   "execution_count": null,
   "id": "1237381f-cc9a-4a0b-aaeb-248e9695892f",
   "metadata": {},
   "outputs": [],
   "source": [
    "#VERIFICAR LOS UNIQUE EN EL DF DE MUERTES MATERNAS\n",
    "\n",
    "hospitales_muertes_maternas = df_madre_no_sobrevivio['CLUES'].unique()\n",
    "\n",
    "#CONTAR LOS REPETIDOS\n",
    "\n",
    "df_clues_repetidos = df_madre_no_sobrevivio['CLUES'].value_counts()\n",
    "\n",
    "#CONVERTIR DE SERIE A DF PARA PODER COMPARAR EN EL FUTURO\n",
    "\n",
    "df_clues_repetidos = df_clues_repetidos.to_frame()\n",
    "\n",
    "print(type(df_clues_repetidos))\n",
    "\n",
    "df_clues_con_nombre = pd.merge(\n",
    "    df_clues_repetidos,\n",
    "    df_establecimientos_salud_2024[['CLUES', 'NOMBRE DE LA UNIDAD','NOMBRE DE LA INS ADM','ENTIDAD', 'LATITUD', 'LONGITUD']],\n",
    "    on='CLUES',\n",
    "    how='left'\n",
    ")\n",
    "\n",
    "df_clues_con_nombre.head()\n"
   ]
  },
  {
   "cell_type": "code",
   "execution_count": null,
   "id": "30554c9b-c697-4546-8ba9-bb55baf85cae",
   "metadata": {},
   "outputs": [],
   "source": [
    "#Generar .csv de los hospitales con más de 2 registros con muerte materna\n",
    "df_semaforo_gineco.to_csv('hospitales_muertes_materna.csv', index=False)"
   ]
  },
  {
   "cell_type": "markdown",
   "id": "8b9e14f6-be1b-4fa5-9d6b-16a55507bbe9",
   "metadata": {},
   "source": [
    "**In the 2024 birth dataset, 76 maternal deaths were reported, along with another 385 cases classified as “not specified.” It is necessary to investigate which hospitals reported these cases to better understand the conditions of care and the gaps in recordkeeping.**\n"
   ]
  },
  {
   "cell_type": "code",
   "execution_count": null,
   "id": "1dd93542-f71c-4c34-9476-167c976ce16e",
   "metadata": {},
   "outputs": [],
   "source": [
    "def clasificar_parto_detallado(tipo_parto_str, tipo_cesarea_str):\n",
    "    if tipo_parto_str == \"Cesárea\":\n",
    "        if tipo_cesarea_str == \"PROGRAMADA\":\n",
    "            return \"Cesárea programada\"\n",
    "        elif tipo_cesarea_str == \"DE URGENCIA\":\n",
    "            return \"Cesárea de urgencia\"\n",
    "        else:\n",
    "            return \"Cesárea no especificada\"\n",
    "    elif tipo_parto_str == \"Eutócico (natural)\":\n",
    "        return \"Eutócico - Natural\"\n",
    "    elif tipo_parto_str == \"Distócico (natural complicado)\":\n",
    "        return \"Distócico - Natural Complicao\"\n",
    "    elif tipo_parto_str == \"Otro\":\n",
    "        return \"Otro\"\n",
    "    else:\n",
    "        return \"Parto No especificado\"\n"
   ]
  },
  {
   "cell_type": "code",
   "execution_count": null,
   "id": "e293fa2c-9659-497e-830e-d4669ea649e6",
   "metadata": {},
   "outputs": [],
   "source": [
    "df_nacimientos_2024_clean_clues[\"PARTO_DETALLADO\"] = df_nacimientos_2024_clean_clues.apply(\n",
    "    lambda row: clasificar_parto_detallado(row[\"TIPO_PARTO_STR\"], row[\"TIPO_CESAREA_STR\"]),\n",
    "    axis=1\n",
    ")"
   ]
  },
  {
   "cell_type": "code",
   "execution_count": null,
   "id": "e772d980-0ff1-4673-83b2-1ae4228be019",
   "metadata": {},
   "outputs": [],
   "source": [
    "df_nacimientos_2024_clean_clues[\"PARTO_DETALLADO\"].value_counts()"
   ]
  },
  {
   "cell_type": "code",
   "execution_count": null,
   "id": "2bbd70da-6bf2-4994-a453-a5804d132658",
   "metadata": {},
   "outputs": [],
   "source": [
    "df_muertes_detallado = df_nacimientos_2024_clean_clues[\n",
    "    df_nacimientos_2024_clean_clues['SOBREVIVIO_PARTO_CVE'] == 2\n",
    "].copy()"
   ]
  },
  {
   "cell_type": "markdown",
   "id": "7901c813-601f-4407-9c09-b6465416de80",
   "metadata": {},
   "source": [
    "## In which type of delivery did most maternal deaths occur?\n",
    "\n",
    "Of the 76 maternal deaths recorded in the 2024 birth dataset, nearly half occurred after an emergency cesarean (48.7%), making it the type of delivery with the highest recorded lethality.\n",
    "\n",
    "A total of 30.3% of the deaths followed a natural (eutocic) vaginal birth, and 17.1% occurred after a scheduled cesarean, indicating that even non-emergency procedures can carry risks if not performed under proper conditions.\n",
    "\n",
    "Only one case was reported as “unspecified cesarean,” which also raises concerns about inconsistencies or gaps in obstetric recordkeeping.\n",
    "\n"
   ]
  },
  {
   "cell_type": "code",
   "execution_count": null,
   "id": "09a9e91e-099e-4701-bbcb-aff7e9810962",
   "metadata": {},
   "outputs": [],
   "source": [
    "conteo_muertes = (\n",
    "    df_muertes_detallado[\"PARTO_DETALLADO\"]\n",
    "    .value_counts()\n",
    "    .rename_axis(\"TIPO_PARTO_MUERTE_MATERNA\")\n",
    "    .reset_index(name=\"Cantidad\")\n",
    ")"
   ]
  },
  {
   "cell_type": "code",
   "execution_count": null,
   "id": "023e1d59-d66e-4824-94f5-141f983c34b9",
   "metadata": {},
   "outputs": [],
   "source": [
    "total_muertes = conteo_muertes[\"Cantidad\"].sum()\n",
    "conteo_muertes[\"Porcentaje\"] = round((conteo_muertes[\"Cantidad\"] / total_muertes) * 100, 1)"
   ]
  },
  {
   "cell_type": "code",
   "execution_count": null,
   "id": "43bcd039-3f8d-489c-896b-4ec8dbe96443",
   "metadata": {},
   "outputs": [],
   "source": [
    "conteo_muertes"
   ]
  },
  {
   "cell_type": "code",
   "execution_count": null,
   "id": "c8bce0f9-2351-42f1-806c-8c1e7b4abb89",
   "metadata": {},
   "outputs": [],
   "source": [
    "conteo_muertes.to_csv(\"muertes_maternas_por_parto_detallado.csv\", index=False)"
   ]
  },
  {
   "cell_type": "code",
   "execution_count": null,
   "id": "fc54f0d8-802f-4589-be7a-3edd11ae8eaa",
   "metadata": {},
   "outputs": [],
   "source": []
  }
 ],
 "metadata": {
  "kernelspec": {
   "display_name": "Python 3 (ipykernel)",
   "language": "python",
   "name": "python3"
  },
  "language_info": {
   "codemirror_mode": {
    "name": "ipython",
    "version": 3
   },
   "file_extension": ".py",
   "mimetype": "text/x-python",
   "name": "python",
   "nbconvert_exporter": "python",
   "pygments_lexer": "ipython3",
   "version": "3.11.8"
  }
 },
 "nbformat": 4,
 "nbformat_minor": 5
}
